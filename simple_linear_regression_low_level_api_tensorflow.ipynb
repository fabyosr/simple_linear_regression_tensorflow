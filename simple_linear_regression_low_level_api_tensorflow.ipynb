{
 "cells": [
  {
   "cell_type": "markdown",
   "metadata": {},
   "source": [
    "# Simple linear regression model using Tensorflow with low level API."
   ]
  },
  {
   "cell_type": "markdown",
   "metadata": {},
   "source": [
    "# 0 - IMPORTS"
   ]
  },
  {
   "cell_type": "code",
   "execution_count": 77,
   "metadata": {
    "ExecuteTime": {
     "end_time": "2020-11-26T22:36:39.497532Z",
     "start_time": "2020-11-26T22:36:37.724248Z"
    }
   },
   "outputs": [],
   "source": [
    "import math\n",
    "import numpy as np\n",
    "import matplotlib.pyplot as plt\n",
    "import tensorflow as tf\n",
    "import warnings\n",
    "\n",
    "from sklearn.metrics import mean_absolute_error, mean_squared_error, r2_score\n",
    "from sklearn.linear_model import LinearRegression\n",
    "from sklearn.preprocessing import StandardScaler \n",
    "\n",
    "%matplotlib inline\n",
    "warnings.filterwarnings('ignore')"
   ]
  },
  {
   "cell_type": "markdown",
   "metadata": {
    "heading_collapsed": true
   },
   "source": [
    "# 1 - DATASET CREATION"
   ]
  },
  {
   "cell_type": "code",
   "execution_count": 78,
   "metadata": {
    "ExecuteTime": {
     "end_time": "2020-11-26T22:36:41.032038Z",
     "start_time": "2020-11-26T22:36:39.536106Z"
    },
    "hidden": true
   },
   "outputs": [
    {
     "data": {
      "text/plain": [
       "array([[18],\n",
       "       [23],\n",
       "       [28],\n",
       "       [33],\n",
       "       [38],\n",
       "       [43],\n",
       "       [48],\n",
       "       [53],\n",
       "       [58],\n",
       "       [63]])"
      ]
     },
     "execution_count": 78,
     "metadata": {},
     "output_type": "execute_result"
    }
   ],
   "source": [
    "X = np.array([[18], [23], [28], [33], [38], [43], [48], [53], [58], [63]])\n",
    "X"
   ]
  },
  {
   "cell_type": "code",
   "execution_count": 79,
   "metadata": {
    "ExecuteTime": {
     "end_time": "2020-11-26T22:36:41.925612Z",
     "start_time": "2020-11-26T22:36:41.064658Z"
    },
    "hidden": true,
    "scrolled": true
   },
   "outputs": [
    {
     "data": {
      "text/plain": [
       "array([[ 871.],\n",
       "       [1132.],\n",
       "       [1042.],\n",
       "       [1356.],\n",
       "       [1488.],\n",
       "       [1638.],\n",
       "       [1569.],\n",
       "       [1754.],\n",
       "       [1866.],\n",
       "       [1900.]])"
      ]
     },
     "execution_count": 79,
     "metadata": {},
     "output_type": "execute_result"
    }
   ],
   "source": [
    "y = np.array([[871.0], [1132.0], [1042.0], [1356.0], [1488.0], [1638.0], [1569.0], [1754.0], [1866.0], [1900.0]])\n",
    "y"
   ]
  },
  {
   "cell_type": "code",
   "execution_count": 80,
   "metadata": {
    "ExecuteTime": {
     "end_time": "2020-11-26T22:36:44.118854Z",
     "start_time": "2020-11-26T22:36:41.927608Z"
    },
    "hidden": true
   },
   "outputs": [],
   "source": [
    "ssX = StandardScaler()\n",
    "X = ssX.fit_transform(X)"
   ]
  },
  {
   "cell_type": "code",
   "execution_count": 81,
   "metadata": {
    "ExecuteTime": {
     "end_time": "2020-11-26T22:36:44.154574Z",
     "start_time": "2020-11-26T22:36:44.130223Z"
    },
    "hidden": true
   },
   "outputs": [],
   "source": [
    "ssy = StandardScaler()\n",
    "y = ssy.fit_transform(y)"
   ]
  },
  {
   "cell_type": "markdown",
   "metadata": {
    "heading_collapsed": true
   },
   "source": [
    "# 2 - DATA VISUALIZATION"
   ]
  },
  {
   "cell_type": "code",
   "execution_count": 82,
   "metadata": {
    "ExecuteTime": {
     "end_time": "2020-11-26T22:36:50.465194Z",
     "start_time": "2020-11-26T22:36:44.245606Z"
    },
    "hidden": true,
    "scrolled": true
   },
   "outputs": [
    {
     "data": {
      "image/png": "[encoded data removed]",
      "text/plain": [
       "<Figure size 432x288 with 1 Axes>"
      ]
     },
     "metadata": {
      "needs_background": "light"
     },
     "output_type": "display_data"
    }
   ],
   "source": [
    "plt.scatter(X, y);"
   ]
  },
  {
   "cell_type": "markdown",
   "metadata": {
    "ExecuteTime": {
     "end_time": "2020-11-25T22:36:50.767109Z",
     "start_time": "2020-11-25T22:36:50.762155Z"
    }
   },
   "source": [
    "# 3 - LINEAR REGRESSION MODEL\n",
    "\n",
    "### Simple Linear Regression Formula\n",
    "\n",
    "### y = b0 + b1 * x"
   ]
  },
  {
   "cell_type": "code",
   "execution_count": 83,
   "metadata": {
    "ExecuteTime": {
     "end_time": "2020-11-26T22:36:50.912101Z",
     "start_time": "2020-11-26T22:36:50.471180Z"
    }
   },
   "outputs": [
    {
     "data": {
      "text/plain": [
       "array([0.5488135 , 0.71518937])"
      ]
     },
     "execution_count": 83,
     "metadata": {},
     "output_type": "execute_result"
    }
   ],
   "source": [
    "np.random.seed(0)\n",
    "np.random.rand(2)"
   ]
  },
  {
   "cell_type": "code",
   "execution_count": 84,
   "metadata": {
    "ExecuteTime": {
     "end_time": "2020-11-26T22:36:54.004733Z",
     "start_time": "2020-11-26T22:36:50.970344Z"
    }
   },
   "outputs": [],
   "source": [
    "# Initialize variables b0 and b1\n",
    "\n",
    "b0 = tf.Variable(0.5488135)\n",
    "b1 = tf.Variable(0.71518937)"
   ]
  },
  {
   "cell_type": "code",
   "execution_count": 85,
   "metadata": {
    "ExecuteTime": {
     "end_time": "2020-11-26T22:36:57.075499Z",
     "start_time": "2020-11-26T22:36:54.035393Z"
    }
   },
   "outputs": [],
   "source": [
    "erro        = tf.losses.mean_squared_error(y, (b0 + b1 * X) )\n",
    "otimizador  = tf.train.GradientDescentOptimizer( learning_rate = 0.001 )\n",
    "treinamento = otimizador.minimize(erro)\n",
    "init        = tf.global_variables_initializer()"
   ]
  },
  {
   "cell_type": "code",
   "execution_count": 86,
   "metadata": {
    "ExecuteTime": {
     "end_time": "2020-11-26T22:37:01.043862Z",
     "start_time": "2020-11-26T22:36:57.086670Z"
    }
   },
   "outputs": [
    {
     "data": {
      "text/plain": [
       "(0.074125245, 0.9366143)"
      ]
     },
     "execution_count": 86,
     "metadata": {},
     "output_type": "execute_result"
    }
   ],
   "source": [
    "# training model\n",
    "with tf.Session() as sess:\n",
    "    sess.run(init)\n",
    "    #print(sess.run(b0))\n",
    "    #print(sess.run(b1))\n",
    "    # epochs\n",
    "    for i in range(1000):\n",
    "        sess.run(treinamento)\n",
    "    b0_final, b1_final = sess.run([b0, b1])\n",
    "b0_final, b1_final"
   ]
  },
  {
   "cell_type": "code",
   "execution_count": 87,
   "metadata": {
    "ExecuteTime": {
     "end_time": "2020-11-26T22:37:01.092902Z",
     "start_time": "2020-11-26T22:37:01.047981Z"
    }
   },
   "outputs": [
    {
     "data": {
      "text/plain": [
       "array([[-1.39326731],\n",
       "       [-1.06718008],\n",
       "       [-0.74109284],\n",
       "       [-0.41500561],\n",
       "       [-0.08891837],\n",
       "       [ 0.23716886],\n",
       "       [ 0.5632561 ],\n",
       "       [ 0.88934333],\n",
       "       [ 1.21543057],\n",
       "       [ 1.5415178 ]])"
      ]
     },
     "execution_count": 87,
     "metadata": {},
     "output_type": "execute_result"
    }
   ],
   "source": [
    "previsoes = b0_final + b1_final * X\n",
    "previsoes"
   ]
  },
  {
   "cell_type": "code",
   "execution_count": 88,
   "metadata": {
    "ExecuteTime": {
     "end_time": "2020-11-26T22:37:01.482828Z",
     "start_time": "2020-11-26T22:37:01.097514Z"
    }
   },
   "outputs": [
    {
     "data": {
      "text/plain": [
       "numpy.ndarray"
      ]
     },
     "execution_count": 88,
     "metadata": {},
     "output_type": "execute_result"
    }
   ],
   "source": [
    "type(previsoes)"
   ]
  },
  {
   "cell_type": "code",
   "execution_count": 89,
   "metadata": {
    "ExecuteTime": {
     "end_time": "2020-11-26T22:37:01.733024Z",
     "start_time": "2020-11-26T22:37:01.525289Z"
    }
   },
   "outputs": [
    {
     "data": {
      "text/plain": [
       "array([[1475.55128351]])"
      ]
     },
     "execution_count": 89,
     "metadata": {},
     "output_type": "execute_result"
    }
   ],
   "source": [
    "age = 40\n",
    "age = np.array(age).reshape(-1, 1)\n",
    "age\n",
    "previsao = ssy.inverse_transform( b0_final + b1_final * ssX.transform(age)  )\n",
    "previsao"
   ]
  },
  {
   "cell_type": "code",
   "execution_count": 90,
   "metadata": {
    "ExecuteTime": {
     "end_time": "2020-11-26T22:37:01.961457Z",
     "start_time": "2020-11-26T22:37:01.737504Z"
    }
   },
   "outputs": [
    {
     "data": {
      "text/plain": [
       "array([[ 871.],\n",
       "       [1132.],\n",
       "       [1042.],\n",
       "       [1356.],\n",
       "       [1488.],\n",
       "       [1638.],\n",
       "       [1569.],\n",
       "       [1754.],\n",
       "       [1866.],\n",
       "       [1900.]])"
      ]
     },
     "execution_count": 90,
     "metadata": {},
     "output_type": "execute_result"
    }
   ],
   "source": [
    "y_inv = ssy.inverse_transform(y)\n",
    "y_inv"
   ]
  },
  {
   "cell_type": "code",
   "execution_count": 91,
   "metadata": {
    "ExecuteTime": {
     "end_time": "2020-11-26T22:37:02.169586Z",
     "start_time": "2020-11-26T22:37:01.971799Z"
    }
   },
   "outputs": [
    {
     "data": {
      "text/plain": [
       "array([[ 993.40405087],\n",
       "       [1102.98296738],\n",
       "       [1212.56188389],\n",
       "       [1322.1408004 ],\n",
       "       [1431.71971691],\n",
       "       [1541.29863342],\n",
       "       [1650.87754993],\n",
       "       [1760.45646644],\n",
       "       [1870.03538294],\n",
       "       [1979.61429945]])"
      ]
     },
     "execution_count": 91,
     "metadata": {},
     "output_type": "execute_result"
    }
   ],
   "source": [
    "previsoes_inv = ssy.inverse_transform(previsoes)\n",
    "previsoes_inv"
   ]
  },
  {
   "cell_type": "code",
   "execution_count": 92,
   "metadata": {
    "ExecuteTime": {
     "end_time": "2020-11-26T22:37:02.543661Z",
     "start_time": "2020-11-26T22:37:02.177017Z"
    }
   },
   "outputs": [
    {
     "name": "stdout",
     "output_type": "stream",
     "text": [
      "68.08075154150106 50.33052640240266 7168.15061839855\n"
     ]
    }
   ],
   "source": [
    "mae = mean_absolute_error(y_inv, previsoes_inv)\n",
    "std = abs(y_inv - previsoes_inv).std()\n",
    "mse = mean_squared_error(y_inv, previsoes_inv)\n",
    "\n",
    "print(mae, std, mse)"
   ]
  },
  {
   "cell_type": "markdown",
   "metadata": {},
   "source": [
    "# 4 - MODEL REGRESSION VIEW"
   ]
  },
  {
   "cell_type": "code",
   "execution_count": 24,
   "metadata": {
    "ExecuteTime": {
     "end_time": "2020-11-25T22:57:37.705029Z",
     "start_time": "2020-11-25T22:57:37.546455Z"
    }
   },
   "outputs": [
    {
     "data": {
      "text/plain": [
       "Text(0, 0.5, 'Cost')"
      ]
     },
     "execution_count": 24,
     "metadata": {},
     "output_type": "execute_result"
    },
    {
     "data": {
      "image/png": "[encoded data removed]",
      "text/plain": [
       "<Figure size 432x288 with 1 Axes>"
      ]
     },
     "metadata": {
      "needs_background": "light"
     },
     "output_type": "display_data"
    }
   ],
   "source": [
    "plt.plot(X, y, 'o')\n",
    "plt.plot(X, previsoes, color = 'red')\n",
    "plt.title('Simple Linear Regression Model')\n",
    "plt.xlabel('Age')\n",
    "plt.ylabel('Cost')"
   ]
  }
 ],
 "metadata": {
  "kernelspec": {
   "display_name": "Python 3",
   "language": "python",
   "name": "python3"
  },
  "language_info": {
   "codemirror_mode": {
    "name": "ipython",
    "version": 3
   },
   "file_extension": ".py",
   "mimetype": "text/x-python",
   "name": "python",
   "nbconvert_exporter": "python",
   "pygments_lexer": "ipython3",
   "version": "3.7.9"
  }
 },
 "nbformat": 4,
 "nbformat_minor": 2
}
